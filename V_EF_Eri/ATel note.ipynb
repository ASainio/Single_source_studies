{
 "cells": [
  {
   "cell_type": "code",
   "execution_count": 2,
   "id": "069b7b99",
   "metadata": {},
   "outputs": [
    {
     "data": {
      "text/plain": [
       "True"
      ]
     },
     "execution_count": 2,
     "metadata": {},
     "output_type": "execute_result"
    }
   ],
   "source": [
    "\n",
    "#Arttu Sainio (Independent researcher), Koji Mukai (NASA/GSFC & UMBC), Siyi Xu (Gemini Observatory/NOIRLab), Franz-Josef Hambsch (VVS/AAVSO/GEOS)\n",
    "\n",
    "#Brightening of EF Eridani Observed by the WISE Missions and ASAS-SN Survey\n",
    "\n",
    "\n",
    "html_content = \"\"\"\n",
    "<div style=\"width: 700px; margin: 0 auto;\">\n",
    "\n",
    "<p>EF Eridani (RA=03:14:13.25, \n",
    "DEC=-22:35:42.90) was known as one of the brightest AM Herculis-type magnetic\n",
    "cataclysmic variables since its discovery in 1979 \n",
    "(<a href=\"https://ui.adsabs.harvard.edu/abs/1979ApJ...232L..27G\">Griffiths et al. 1979</a>)\n",
    "until 1996, when the system was found to be in a low state (<a href=\"https://ui.adsabs.harvard.edu/abs/1998ASPC..137..446W\">Wheatley & Ramsay 1998</a>), \n",
    "and it persisted in that state for 25 years, except for brief episodes of brightening, \n",
    "marking it the longest known low state of an AM Her-type system. While the return of EF Eri to a high state in December 2022 has been\n",
    "known among specialists (see, e.g., <a href=\"https://ui.adsabs.harvard.edu/abs/2024IAUGA..32P2592K\">Khangale et al. 2024</a>)\n",
    ", it has never been widely announced.\n",
    "\n",
    "<p>NASA's WISE mission was launched in September 2009 and continued as the NEOWISE mission from 2013 onward \n",
    "(<a href=\"https://ui.adsabs.harvard.edu/abs/2010AJ....140.1868W\">Wright et al. 2010</a>, \n",
    "<a href=\"https://ui.adsabs.harvard.edu/abs/2014ApJ...792...30M\">Mainzer et al. 2014</a>). \n",
    "WISE missions collected 720 detections of EF Eri in W1 (3.4 μm) and W2 (4.6 μm) wavelengths.\n",
    "We present the W1 and W2 L1b photometry, including data from the final NEOWISE observations.\n",
    "\n",
    "The first 21 epochs, from 2010-01-22 to 2022-08-01, showed no unusual variability.\n",
    "The full WISE data set can be accessed via \n",
    "<a href=\"https://irsa.ipac.caltech.edu/\">NASA/IPAC Infrared Science Archive</a>.</p>\n",
    "    \n",
    "<pre style=\"font-size: 1.2em;\">\n",
    "<p><strong>Epoch         Date                             W1(Mag)            W2(Mag)</strong></p>\n",
    "Epoch 1-21    2010-01-22.03 - 2022-08-01.40    14.244 ±0.065     13.615 ±0.118\n",
    "Epoch 22      2023-01-07.14 - 2023-01-08.11    12.532 ±0.027     12.066 ±0.039\n",
    "Epoch 23      2023-07-30.26 - 2023-08-08.82    12.617 ±0.029     12.245 ±0.048\n",
    "Epoch 24      2024-01-06.19 - 2024-01-07.42    12.648 ±0.028     12.200 ±0.045\n",
    "Epoch 25      2024-07-31.34 - 2024-08-01.79    12.651 ±0.033     12.357 ±0.064\n",
    "</pre>\n",
    "\n",
    "\n",
    "\n",
    "The All-Sky Automated Survey for SuperNovae (ASAS-SN, \n",
    "<a href=\"https://ui.adsabs.harvard.edu/abs/2014ApJ...788...48S\">Shappee et al. 2014</a>, \n",
    "<a href=\"https://ui.adsabs.harvard.edu/abs/2017PASP..129j4502K\">Kochanek et al. 2017</a>, \n",
    "<a href=\"https://ui.adsabs.harvard.edu/abs/2023arXiv230403791H\">Hart et al. 2023</a>) \n",
    "has observed EF Eri since 2012-02-01, totalling to date 5,477 data points. \n",
    "\n",
    "ASAS-SN observed EF Eri in the V band until 2018-11-29,\n",
    "resulting in a mean magnitude of 16.827 ± 0.177. \n",
    "\n",
    "<p>Observations in the g band began on 2017-09-18.\n",
    "On 2022-12-02.14, EF Eri exhibited a slightly brighter magnitude (g= 16.857 ±0.198) compared to its previous mean of g= 17.179 ±0.161,\n",
    "and within six days, by 2022-12-08.23, \n",
    "the system had brightened significantly to g= 14.671 ±0.057.\n",
    "\n",
    "<p>The current peak in g band was achieved between 2023-02-27.13 and 2023-03-03.01 when 9 consecutive measurements \n",
    "averaged 14.218 ±0.035. The current\n",
    "<a href=\"https://asas-sn.osu.edu/sky-patrol/coordinate/5eeb4ecb-2570-4821-b24d-b2456b64c6ad\">ASAS-SN light curve</a> \n",
    "does not show similar events since 2012 when EF Eri was first observed.\n",
    "\n",
    "<p><strong>Summary:</strong></p>\n",
    "\n",
    "EF Eri is in a bright state observed in both mid-infrared and optical wavelengths \n",
    "that began in December 2022. EF Eri peaked in the g band by ~2.9 magnitudes, W1 brightened by ~1.7 magnitudes, \n",
    "and W2 increased by ~1.5 magnitudes above the previous state in January 2023. \n",
    "Although the brightening has gradually plateaued, \n",
    "latest observations continue to show the bright state in all observed wavelengths.\n",
    "\n",
    "<p><strong>Follow-up:</strong></p>\n",
    "\n",
    "Franz-Josef Hambsch began observing EF Eri on 2024-05-12 and will be submitting the photometry to \n",
    "<a href=\"https://www.aavso.org/data-access\">AAVSO archive</a>.</p></div>\n",
    "\"\"\"\n",
    "\n",
    "\n",
    "# HTML file:\n",
    "with open(\"ATel_note.html\", \"w\", encoding=\"utf-8\") as file:\n",
    "    file.write(html_content)\n",
    "\n",
    "# Open the HTML file in browser\n",
    "import webbrowser\n",
    "webbrowser.open(\"ATel_note.html\")\n",
    "\n"
   ]
  },
  {
   "cell_type": "code",
   "execution_count": 3,
   "id": "c52988cc",
   "metadata": {},
   "outputs": [
    {
     "name": "stdout",
     "output_type": "stream",
     "text": [
      "Word count: 467\n"
     ]
    }
   ],
   "source": [
    "text = html_content\n",
    "\n",
    "\n",
    "# Count the words\n",
    "word_count = len(text.split())\n",
    "print(\"Word count:\", word_count)"
   ]
  },
  {
   "cell_type": "code",
   "execution_count": 4,
   "id": "a006f033",
   "metadata": {},
   "outputs": [
    {
     "name": "stdout",
     "output_type": "stream",
     "text": [
      "Character count: 3855\n"
     ]
    }
   ],
   "source": [
    "character_count = len(text)\n",
    "print(\"Character count:\", character_count)"
   ]
  },
  {
   "cell_type": "code",
   "execution_count": null,
   "id": "0b426c3e",
   "metadata": {},
   "outputs": [],
   "source": []
  }
 ],
 "metadata": {
  "kernelspec": {
   "display_name": "Python 3 (ipykernel)",
   "language": "python",
   "name": "python3"
  },
  "language_info": {
   "codemirror_mode": {
    "name": "ipython",
    "version": 3
   },
   "file_extension": ".py",
   "mimetype": "text/x-python",
   "name": "python",
   "nbconvert_exporter": "python",
   "pygments_lexer": "ipython3",
   "version": "3.11.7"
  }
 },
 "nbformat": 4,
 "nbformat_minor": 5
}
