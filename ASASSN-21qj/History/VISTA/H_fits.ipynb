{
 "cells": [
  {
   "cell_type": "code",
   "execution_count": 1,
   "id": "36efffa9",
   "metadata": {},
   "outputs": [],
   "source": [
    "import numpy\n",
    "\n",
    "from astropy.io import fits\n",
    "from astropy.table import Table"
   ]
  },
  {
   "cell_type": "code",
   "execution_count": 2,
   "id": "9f895f54",
   "metadata": {},
   "outputs": [
    {
     "name": "stdout",
     "output_type": "stream",
     "text": [
      "ADP.2021-03-12T18_16_13.090.fits  23.65 6.0 0.8358784 0.2321205\n"
     ]
    },
    {
     "name": "stderr",
     "output_type": "stream",
     "text": [
      "C:\\Users\\arttu\\AppData\\Local\\Temp/ipykernel_63900/1840801359.py:32: RuntimeWarning: invalid value encountered in log10\n",
      "  HAperMag1 = zp1 - 2.5*numpy.log10(f1/exptime) - apcor1\n",
      "C:\\Users\\arttu\\AppData\\Local\\Temp/ipykernel_63900/1840801359.py:39: RuntimeWarning: invalid value encountered in log10\n",
      "  HAperMag3 = zp1 - 2.5*numpy.log10(f3/exptime) - apcor3\n"
     ]
    },
    {
     "name": "stdout",
     "output_type": "stream",
     "text": [
      "ADP.2021-03-12T18_13_35.069.fits  23.837 6.0 0.8047409 0.222662\n"
     ]
    }
   ],
   "source": [
    "files = [\n",
    "    \n",
    "'ADP.2021-03-12T18_16_13.090.fits ',\n",
    "'ADP.2021-03-12T18_13_35.069.fits '\n",
    " \n",
    "]\n",
    "\n",
    "\n",
    "f = open('vista_H.csv','w')\n",
    "\n",
    "for file1 in files:\n",
    "\tdata1 = Table.read(file1,hdu=1)\n",
    "\t\n",
    "\thdu1 = fits.open(file1)\n",
    "\t\n",
    "\tzp1 = hdu1[1].header['MAGZPT']\n",
    "\texptime = hdu1[1].header['REQTIME']\n",
    "\t#percorr = hdu1[1].header['PERCORR']\n",
    "\tapcor1 = hdu1[1].header['APCOR1']\n",
    "\tapcor3 = hdu1[1].header['APCOR3']\n",
    "\tmjd = hdu1[1].header['MJD-OBS']\n",
    "\t\n",
    "\tprint (file1,zp1,exptime,apcor1,apcor3)\n",
    "\t\n",
    "\tfor d1 in [data1]:\n",
    "\t\tfor i in range(len(d1)):\n",
    "\t\t\tra = numpy.degrees(d1['RA'][i])\n",
    "\t\t\tdec = numpy.degrees(d1['DEC'][i])\n",
    "            #aper1\n",
    "\t\t\tf1 = d1['Aper_flux_1'][i]\n",
    "\t\t\tef1 = d1['Aper_flux_1_err'][i]\n",
    "\t\t\tHAperMag1 = zp1 - 2.5*numpy.log10(f1/exptime) - apcor1\n",
    "\t\t\tsn1 = f1/ef1\n",
    "\t\t\tHAperMag1Err = 1.0/(numpy.log(10.0)/2.5)/sn1            \n",
    "            \n",
    "            #aper3\n",
    "\t\t\tf3 = d1['Aper_flux_3'][i]\n",
    "\t\t\tef3 = d1['Aper_flux_3_err'][i]            \n",
    "\t\t\tHAperMag3 = zp1 - 2.5*numpy.log10(f3/exptime) - apcor3\n",
    "\t\t\tsn3 = f3/ef3\n",
    "\t\t\tHAperMag3Err = 1.0/(numpy.log(10.0)/2.5)/sn3              \n",
    "            \n",
    "            \n",
    "\t\t\tf.write('%15s, %15s, %15s, %15s, %15s, %15s, %15s , %s\\n' % (ra,dec,round(HAperMag1,6),round(HAperMag1Err,6),round(HAperMag3,6),round(HAperMag3Err,6),mjd,file1))\n",
    "            \n"
   ]
  },
  {
   "cell_type": "code",
   "execution_count": null,
   "id": "02535092",
   "metadata": {},
   "outputs": [],
   "source": []
  }
 ],
 "metadata": {
  "kernelspec": {
   "display_name": "Python 3 (ipykernel)",
   "language": "python",
   "name": "python3"
  },
  "language_info": {
   "codemirror_mode": {
    "name": "ipython",
    "version": 3
   },
   "file_extension": ".py",
   "mimetype": "text/x-python",
   "name": "python",
   "nbconvert_exporter": "python",
   "pygments_lexer": "ipython3",
   "version": "3.9.7"
  }
 },
 "nbformat": 4,
 "nbformat_minor": 5
}
