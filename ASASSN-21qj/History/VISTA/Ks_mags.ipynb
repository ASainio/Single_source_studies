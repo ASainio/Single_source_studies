{
 "cells": [
  {
   "cell_type": "code",
   "execution_count": 1,
   "id": "36efffa9",
   "metadata": {},
   "outputs": [],
   "source": [
    "import numpy\n",
    "\n",
    "from astropy.io import fits\n",
    "from astropy.table import Table"
   ]
  },
  {
   "cell_type": "code",
   "execution_count": 2,
   "id": "9f895f54",
   "metadata": {},
   "outputs": [
    {
     "name": "stdout",
     "output_type": "stream",
     "text": [
      "ADP.2021-03-12T18_13_03.989.fits 23.015 4.0 1.724759 0.6809988\n"
     ]
    },
    {
     "name": "stderr",
     "output_type": "stream",
     "text": [
      "C:\\Users\\arttu\\AppData\\Local\\Temp/ipykernel_75428/3932191787.py:59: RuntimeWarning: invalid value encountered in log10\n",
      "  KsAperMag1 = zp1 - 2.5*numpy.log10(f1/exptime) - apcor1\n",
      "C:\\Users\\arttu\\AppData\\Local\\Temp/ipykernel_75428/3932191787.py:66: RuntimeWarning: invalid value encountered in log10\n",
      "  KsAperMag3 = zp1 - 2.5*numpy.log10(f3/exptime) - apcor3\n"
     ]
    },
    {
     "name": "stdout",
     "output_type": "stream",
     "text": [
      "ADP.2021-03-12T18_13_04.063.fits 23.014 4.0 1.735994 0.6817398\n",
      "ADP.2021-03-12T18_13_09.101.fits 22.998 4.0 0.7666397 0.1920052\n",
      "ADP.2021-03-12T18_13_32.548.fits 23.01 4.0 1.058617 0.3079338\n",
      "ADP.2021-03-12T18_13_35.077.fits 23.018 4.0 0.7233124 0.185051\n",
      "ADP.2021-03-12T18_13_38.815.fits 22.97 4.0 0.9804754 0.2755508\n",
      "ADP.2021-03-12T18_13_52.634.fits 22.983 4.0 1.033323 0.3074236\n",
      "ADP.2021-03-12T18_13_53.194.fits 22.962 4.0 0.9553595 0.2606821\n",
      "ADP.2021-03-12T18_13_53.828.fits 22.94 4.0 1.07441 0.3124266\n",
      "ADP.2021-03-12T18_13_56.375.fits 22.932 4.0 0.7602997 0.189539\n",
      "ADP.2021-03-12T18_13_56.904.fits 22.99 4.0 1.414549 0.4879122\n",
      "ADP.2021-03-12T18_15_03.789.fits 22.967 4.0 1.253475 0.4048004\n",
      "ADP.2021-03-12T18_15_09.913.fits 23.001 4.0 0.8863993 0.2352896\n",
      "ADP.2021-03-12T18_15_12.741.fits 23.005 4.0 0.9164476 0.2492685\n",
      "ADP.2021-03-12T18_15_13.186.fits 22.987 4.0 0.9320498 0.249073\n",
      "ADP.2021-03-12T18_15_13.535.fits 22.985 4.0 0.9083061 0.2455149\n",
      "ADP.2021-03-12T18_15_15.908.fits 22.96 4.0 0.8372726 0.2188082\n",
      "ADP.2021-03-12T18_15_17.404.fits 22.968 4.0 0.8083229 0.2053108\n",
      "ADP.2021-03-12T18_15_27.283.fits 22.985 4.0 0.7065077 0.176959\n",
      "ADP.2021-03-12T18_15_27.380.fits 22.99 4.0 0.7595778 0.1912661\n",
      "ADP.2021-03-12T18_15_29.107.fits 22.983 4.0 0.9689884 0.269537\n",
      "ADP.2021-03-12T18_15_33.543.fits 23.021 4.0 0.8622417 0.2261906\n",
      "ADP.2021-03-12T18_15_42.836.fits 23.009 4.0 0.8849506 0.2308712\n",
      "ADP.2021-03-12T18_15_43.446.fits 22.873 4.0 1.03642 0.2990208\n",
      "ADP.2021-03-12T18_15_43.585.fits 22.872 4.0 0.9983006 0.286726\n",
      "ADP.2021-03-12T18_15_44.905.fits 23.007 4.0 1.292542 0.4220572\n",
      "ADP.2021-03-12T18_15_46.871.fits 23.011 4.0 0.9969511 0.2772617\n",
      "ADP.2021-03-12T18_16_13.096.fits 22.827 4.0 0.7588329 0.1933489\n",
      "ADP.2021-09-23T09_43_10.834.fits 22.862 4.0 0.6642523 0.1627541\n",
      "ADP.2021-09-23T09_43_11.874.fits 22.862 4.0 1.053529 0.3132296\n"
     ]
    }
   ],
   "source": [
    "files = [\n",
    "    \n",
    "'ADP.2021-03-12T18_13_03.989.fits',\n",
    "'ADP.2021-03-12T18_13_04.063.fits',\n",
    "'ADP.2021-03-12T18_13_09.101.fits',\n",
    "'ADP.2021-03-12T18_13_32.548.fits',\n",
    "'ADP.2021-03-12T18_13_35.077.fits',\n",
    "'ADP.2021-03-12T18_13_38.815.fits',\n",
    "'ADP.2021-03-12T18_13_52.634.fits',\n",
    "'ADP.2021-03-12T18_13_53.194.fits',\n",
    "'ADP.2021-03-12T18_13_53.828.fits',\n",
    "'ADP.2021-03-12T18_13_56.375.fits',\n",
    "'ADP.2021-03-12T18_13_56.904.fits',\n",
    "'ADP.2021-03-12T18_15_03.789.fits',\n",
    "'ADP.2021-03-12T18_15_09.913.fits',\n",
    "'ADP.2021-03-12T18_15_12.741.fits',\n",
    "'ADP.2021-03-12T18_15_13.186.fits',\n",
    "'ADP.2021-03-12T18_15_13.535.fits',\n",
    "'ADP.2021-03-12T18_15_15.908.fits',\n",
    "'ADP.2021-03-12T18_15_17.404.fits',\n",
    "'ADP.2021-03-12T18_15_27.283.fits',\n",
    "'ADP.2021-03-12T18_15_27.380.fits',\n",
    "'ADP.2021-03-12T18_15_29.107.fits',\n",
    "'ADP.2021-03-12T18_15_33.543.fits',\n",
    "'ADP.2021-03-12T18_15_42.836.fits',\n",
    "'ADP.2021-03-12T18_15_43.446.fits',\n",
    "'ADP.2021-03-12T18_15_43.585.fits',\n",
    "'ADP.2021-03-12T18_15_44.905.fits',\n",
    "'ADP.2021-03-12T18_15_46.871.fits',\n",
    "'ADP.2021-03-12T18_16_13.096.fits',\n",
    "'ADP.2021-09-23T09_43_10.834.fits',\n",
    "'ADP.2021-09-23T09_43_11.874.fits'  \n",
    "]\n",
    "\n",
    "\n",
    "f = open('vista_k.csv','w')\n",
    "\n",
    "for file1 in files:\n",
    "\tdata1 = Table.read(file1,hdu=1)\n",
    "\t\n",
    "\thdu1 = fits.open(file1)\n",
    "\t\n",
    "\tzp1 = hdu1[1].header['MAGZPT']\n",
    "\texptime = hdu1[1].header['REQTIME']\n",
    "\t#percorr = hdu1[1].header['PERCORR']\n",
    "\tapcor1 = hdu1[1].header['APCOR1']\n",
    "\tapcor3 = hdu1[1].header['APCOR3']\n",
    "\tmjd = hdu1[1].header['MJD-OBS']\n",
    "\t\n",
    "\tprint (file1,zp1,exptime,apcor1,apcor3)\n",
    "\t\n",
    "\tfor d1 in [data1]:\n",
    "\t\tfor i in range(len(d1)):\n",
    "\t\t\tra = numpy.degrees(d1['RA'][i])\n",
    "\t\t\tdec = numpy.degrees(d1['DEC'][i])\n",
    "            #aper1\n",
    "\t\t\tf1 = d1['Aper_flux_1'][i]\n",
    "\t\t\tef1 = d1['Aper_flux_1_err'][i]\n",
    "\t\t\tKsAperMag1 = zp1 - 2.5*numpy.log10(f1/exptime) - apcor1\n",
    "\t\t\tsn1 = f1/ef1\n",
    "\t\t\tKsAperMag1Err = 1.0/(numpy.log(10.0)/2.5)/sn1            \n",
    "            \n",
    "            #aper3\n",
    "\t\t\tf3 = d1['Aper_flux_3'][i]\n",
    "\t\t\tef3 = d1['Aper_flux_3_err'][i]            \n",
    "\t\t\tKsAperMag3 = zp1 - 2.5*numpy.log10(f3/exptime) - apcor3\n",
    "\t\t\tsn3 = f3/ef3\n",
    "\t\t\tKsAperMag3Err = 1.0/(numpy.log(10.0)/2.5)/sn3              \n",
    "            \n",
    "            \n",
    "\t\t\tf.write('%15s, %15s, %15s, %15s, %15s, %15s, %15s , %s\\n' % (ra,dec,round(KsAperMag1,6),round(KsAperMag1Err,6),round(KsAperMag3,6),round(KsAperMag3Err,6),mjd,file1))\n",
    "            \n"
   ]
  },
  {
   "cell_type": "code",
   "execution_count": null,
   "id": "02535092",
   "metadata": {},
   "outputs": [],
   "source": []
  }
 ],
 "metadata": {
  "kernelspec": {
   "display_name": "Python 3 (ipykernel)",
   "language": "python",
   "name": "python3"
  },
  "language_info": {
   "codemirror_mode": {
    "name": "ipython",
    "version": 3
   },
   "file_extension": ".py",
   "mimetype": "text/x-python",
   "name": "python",
   "nbconvert_exporter": "python",
   "pygments_lexer": "ipython3",
   "version": "3.9.7"
  }
 },
 "nbformat": 4,
 "nbformat_minor": 5
}
